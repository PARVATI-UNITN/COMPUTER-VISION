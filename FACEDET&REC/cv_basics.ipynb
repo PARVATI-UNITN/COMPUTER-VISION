{
 "cells": [
  {
   "cell_type": "code",
   "execution_count": null,
   "id": "38fd76fd",
   "metadata": {},
   "outputs": [],
   "source": [
    "#till now we have learned PILLOW, SKIMAGE\n",
    "\n",
    "\n",
    "#read\n",
    "from skimage.io import imread\n",
    "img=imread('child.jpg')#rgb image array\n",
    "from \n",
    "import cv2  \n",
    "''' type 'pip install opencv' on terminal then on code cell run 'import cv2'\n",
    "also cv2 package is a compiled C++ extension module When you import cv2, you're importing \n",
    "a binary interface that doesn’t expose functions in the same way as Python modules.'''\n",
    "img=cv2.imread('child.jpg')#gbr image array\n",
    "\n",
    "#resize\n",
    "resized_image=resize('child.jpg', (150,150,3)) #SKIMAGE\n",
    "\n",
    "#reshape\n",
    "\n",
    "\n",
    "#showimage/display\n",
    "\n",
    "\n",
    "#change color\n",
    "#grey\n",
    "img_grey=cv2.imread('child.jpg', cv2.IMREAD_GRAYSCALE)#READ in grayscale cv\n",
    "gray = cv2.cvtColor(img, cv2.COLOR_BGR2GRAY)\n",
    "\n",
    "#black\n",
    "img_gray=cv2.cvtColor('child.jpg', cv2.COLOR_BGR2GRAY)'''THEN MAKE GREY IMAGE TO BLACK''' threshimg_black=cv2.threshold('child.jpg', 0, 255, cv2.THRESH_BINARY+cv2.THRESH_OTSU )\n",
    "#save color changed image\n",
    "cv2.imwrite('grayimg.jpg', img_grey)"
   ]
  },
  {
   "cell_type": "markdown",
   "id": "569be558",
   "metadata": {},
   "source": [
    "Phase 1: Basics"
   ]
  },
  {
   "cell_type": "code",
   "execution_count": null,
   "id": "34fd4d3f",
   "metadata": {},
   "outputs": [],
   "source": [
    "import cv2 # package not writtern in python"
   ]
  },
  {
   "cell_type": "code",
   "execution_count": 1,
   "id": "86f6d8eb",
   "metadata": {},
   "outputs": [
    {
     "ename": "NameError",
     "evalue": "name 'cv2' is not defined",
     "output_type": "error",
     "traceback": [
      "\u001b[31m---------------------------------------------------------------------------\u001b[39m",
      "\u001b[31mNameError\u001b[39m                                 Traceback (most recent call last)",
      "\u001b[36mCell\u001b[39m\u001b[36m \u001b[39m\u001b[32mIn[1]\u001b[39m\u001b[32m, line 1\u001b[39m\n\u001b[32m----> \u001b[39m\u001b[32m1\u001b[39m img=\u001b[43mcv2\u001b[49m.imread(\u001b[33m'\u001b[39m\u001b[33mchild.jpg\u001b[39m\u001b[33m'\u001b[39m)\u001b[38;5;66;03m#read img to array\u001b[39;00m\n\u001b[32m      3\u001b[39m cv2.imshow(\u001b[33m'\u001b[39m\u001b[33mIMAGE\u001b[39m\u001b[33m'\u001b[39m, img)\u001b[38;5;66;03m#show image\u001b[39;00m\n\u001b[32m      4\u001b[39m cv2.waitKey(\u001b[32m5000\u001b[39m)\u001b[38;5;66;03m#5000 milisecond wait(viewd) time for image\u001b[39;00m\n",
      "\u001b[31mNameError\u001b[39m: name 'cv2' is not defined"
     ]
    }
   ],
   "source": [
    "img=cv2.imread('child.jpg')#read img to array\n",
    "\n",
    "cv2.imshow('IMAGE', img)#show image\n",
    "cv2.waitKey(5000)#5000 milisecond wait(viewd) time for image\n",
    "cv2.destroyAllWindows()#after that distroy all"
   ]
  },
  {
   "cell_type": "code",
   "execution_count": null,
   "id": "4dbc5c15",
   "metadata": {},
   "outputs": [],
   "source": [
    "#gray\n",
    "img_grey=cv2.imread('child.jpg', cv2.IMREAD_GRAYSCALE)#grayscale image image array\n",
    "cv2.imshow('gray_IMAGE', img_gray)#show image\n",
    "cv2.waitKey()#wait(viewd) the image wait to close tilll key is pressed \n",
    "cv2.destroyAllWindows()#after that distroy all\n",
    "\n",
    "cv2.imwrite('grayimg.jpg', img_grey)#save gray image/write"
   ]
  },
  {
   "cell_type": "code",
   "execution_count": null,
   "id": "b57ded90",
   "metadata": {},
   "outputs": [],
   "source": [
    "#black from grey scale image\n",
    "thresh, img_black=cv2.threshold(img_grey,130,255,cv2.THRESH_BINARY)# function gives multiple values\n",
    "#if black and white image is more white/black then best thres value can be detected by system using\n",
    "thresh, img_black=cv2.threshold(img_grey,130,255,cv2.THRESH_OTSU)#Otsu's method automatically determines the best threshold value to separate the foreground from the background in a grayscale image — no manual threshold value needed!\n",
    "cv2.imshow('black_IMAGE', img_black)#show image\n",
    "cv2.waitKey()#wait(viewd) the image wait to close tilll key is pressed \n",
    "cv2.destroyAllWindows()#after that distroy all\n",
    "\n",
    "cv2.imwrite('blckimg.jpg', img_black)#save black image"
   ]
  },
  {
   "cell_type": "code",
   "execution_count": null,
   "id": "2d22090d",
   "metadata": {},
   "outputs": [],
   "source": [
    "#show the read image using matplotlib\n",
    "import matplotlib.pyplot as plt\n",
    "plt.imshow(img)#blue colour gradient as cv reads the image into bgr format which is disployed in rgb when using cv2.imshow otherwise convert it to rgb\n",
    "cvt_img=cv2.cvtColor(img, cv2.COLOR_BGR2RGB)#cnverted to rgb\n",
    "plt.imshow(cvt_img)# here rgb image"
   ]
  },
  {
   "cell_type": "markdown",
   "id": "0a97bf94",
   "metadata": {},
   "source": [
    "Phase 2: Moderate"
   ]
  },
  {
   "cell_type": "code",
   "execution_count": null,
   "id": "a55368b4",
   "metadata": {},
   "outputs": [],
   "source": [
    "#DRAW a mark around the face on an image. HERE WE MANUALLY GIVE THE VALUES\n",
    "cv2.rectangle(cvt_img,(200,100),(600,550),(0,0,255),3)#rectangle(image,pt1,pt2,color in rgb,thickness)\n",
    "plt.imshow(cvt_img)\n",
    "\n",
    "cv2.circle(cvt_img,(400,300),100,(0,255,0),6)#Circle redo image otherwise all sketch on an image (img,center,radius,color,thickness)\n",
    "plt.imshow(cvt_img)\n",
    "\n",
    "cv2.putText(cvt_img,'CUTE BABY',(200,600),cv2.FONT_HERSHEY_COMPLEX,4,(255,0,0),5)#TEXT ( IMG, TEXT, ORG, FONTFACE,FONTSCALE,COLOR, THICKNESS)\n",
    "cv2.imshow(cvt_img)#converted img is displayed (do this after each (after rectangle,circle..))"
   ]
  },
  {
   "cell_type": "code",
   "execution_count": null,
   "id": "c13af59f",
   "metadata": {},
   "outputs": [],
   "source": [
    "#face _detection_ \n",
    "#people image into rgb\n",
    "p=cv2.imread('people.jpg')\n",
    "cvt_p=cv2.cvtColor(p.COLOR_BGR2RGB)\n",
    "cv2.imshow(cvt_p)\n",
    "#create an object of the haarcascade model using class CascadeClassifier\n",
    "haar=cv2.CascadeClassifier('haarcascade_frontalface_default.xml')\n",
    "points=haar.detectMultiScale(cvt_p,minNeighbors=4)#detect face's points(helps to draw bounding box) of image cvt_p using this model and a function detectMultiScale\n",
    "#MINnEIGHBORS MEANS ONLY IF MODEL DETECTS THE POINTS IN ARRAY TO BE BOUNDARIES MIN 4 TIMES THEN TAKE THE POINTS AS BOUNDARY POINTS OTHERWISE IGNORE\n",
    "#best is to convert imge cvt_p to grey scale\n",
    "for x,y,w,h in points:#points return 4 values( x,y,w,h)\n",
    "    cv2.Rectangle(cvt_p,(x,y),(x+w,y+h),(0,0,225),5)\n",
    "plt.show(cvt_p)#why not cv2.imshow(cvt_p)"
   ]
  },
  {
   "cell_type": "code",
   "execution_count": null,
   "id": "bd415ad9",
   "metadata": {},
   "outputs": [],
   "source": [
    "#FACE DETECTION OUR FACE THROGH WECAM ACCES-real time\n",
    "video=cv2.VideoCapture(0)#get access of the computer cam, webcam etc .... if its computer cam the value becomes 0 other device mounted like webcam then its 1 or -1 and if its a video put mp4 inro it.\n",
    "while True:#VIDEO ID BEING CAPTURED IS TRUE\n",
    "    success,img=video.read()#read the images/frammes from video captured through webcm to img and succes will be true until no images is left(especially when passing a video)\n",
    "    cvt_img=cv2.cvtColor(img, cv2.COLOR_BGR2GRAY)\n",
    "    face_points=haar.detectMultiScale(cvt_img,minNeighbors=4)\n",
    "    for x,y,w,h in face_points:\n",
    "        cv2.rectangle(img,(x,y),(x+w,y+h),(255,0,0),4)\n",
    "    cv2.imshow('IMAGE',img)\n",
    "    if cv2.waitKey(1) & 0XFF==ord('q'):\n",
    "        break\n",
    "video.release()#release the web cam access\n",
    "cv2.destroyAllWindows()#destroy the window on screen"
   ]
  }
 ],
 "metadata": {
  "kernelspec": {
   "display_name": "Python 3",
   "language": "python",
   "name": "python3"
  },
  "language_info": {
   "codemirror_mode": {
    "name": "ipython",
    "version": 3
   },
   "file_extension": ".py",
   "mimetype": "text/x-python",
   "name": "python",
   "nbconvert_exporter": "python",
   "pygments_lexer": "ipython3",
   "version": "3.12.3"
  }
 },
 "nbformat": 4,
 "nbformat_minor": 5
}
